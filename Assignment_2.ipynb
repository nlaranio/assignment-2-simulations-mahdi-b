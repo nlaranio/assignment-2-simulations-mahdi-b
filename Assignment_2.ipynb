{
 "cells": [
  {
   "cell_type": "code",
   "execution_count": 1,
   "metadata": {},
   "outputs": [],
   "source": [
    "from scipy import stats\n",
    "import numpy as np\n",
    "import matplotlib.pyplot as plt\n",
    "import scipy as sp\n",
    "import scipy.stats as stats\n",
    "import pandas as pd\n",
    "%matplotlib inline"
   ]
  },
  {
   "cell_type": "markdown",
   "metadata": {},
   "source": [
    "### Brief Overview \n",
    "\n",
    "- The goal of this assignment is to practice some essential concepts covered in the statistical and probability and hypothesis testing sections\n",
    "\n",
    "- The assignment is comprised of two problems: 1-hypothesis testing and  2- generative models and simulation. Both problems start by breaking down the problem into chunks that are meant to guide you through solving the problem bit-by-bit before asking you to replicate the analysis on a different question.\n",
    "\n",
    "##### Instructions on answering the questions\n",
    "\n",
    "* The only Python modules you are allowed to use in this assignment are those imported in the top cell\n",
    "  * Those are:  matplotlib, `numpy`, `scipy` and `pandas`\n",
    "\n",
    "\n",
    "* All your graphs should be labeled appropriately and should have a title\n",
    "  * You can set your plot size using `plt.figure(figsize=(a,b))` where (a,b) are the dimensions of you plot\n",
    "\n"
   ]
  },
  {
   "cell_type": "markdown",
   "metadata": {},
   "source": [
    "# PROBLEM 1\n",
    "----"
   ]
  },
  {
   "cell_type": "markdown",
   "metadata": {
    "collapsed": true
   },
   "source": [
    "### Modeling Revenue from Memberships on a Training Website\n",
    "\n",
    "* We are interested in modeling sales revenue over 2019 for a website that offers training using a membership model. In short, the website charges a monthly fee ($39.99) and enrollees can take as much time as needed to complete their training. Enrollees can quit the platform anytime without completing the training.\n",
    "\n",
    "* The data provider knows that:\n",
    "  * On average, females tend to complete training earlier than males\n",
    "  * On average, females tend to quit less than males\n",
    "  * Students have a small probability of dropping each month. The probability of dropping decays (declines) as the students get close to completing the training, i.e., the longer a student has paid, the less likely they are to give up on their investment and leave the platform before completing the training.\n",
    "  \n",
    "  * The site has seen a steady annual increase in memberships over the past five years. \n",
    "   * Specifically, the mean increase was 13% and the standard deviation %1.4\n",
    "   * The expected increase in memberships is similar for next year.\n",
    "   * In 2018,  90,316 people enrolled on the training site\n",
    "  \n",
    "* We have access to data from only 60,563 members in 2018\n",
    "   \n",
    "The data contains three columns:\n",
    "\n",
    "| Column    | Description                                    |\n",
    "|-----------|------------------------------------------------|\n",
    "| member_id | unique identifier of the member                |\n",
    "| gender    | M for male and F for female                    |\n",
    "| status    | C for completed and Q for quit                 |\n",
    "| mem_duration    | Total duration of the membership in Months |\n",
    "  \n",
    "\n",
    "\n",
    "Your task is to build a generative model, which can be used to estimate revenue for next year. However, before simulating data, we need to learn the parameters of the model and hypothesize about their underlying distributions. \n"
   ]
  },
  {
   "cell_type": "markdown",
   "metadata": {
    "collapsed": true
   },
   "source": [
    "### Reading the Data \n",
    "\n",
    "* The data is stored in the file `sample_users.csv` in the data folder\n",
    "* Use `pandas` to read in the data into a variable called `sample_users`\n",
    "* Verify that the file contains information about 60,563 members\n"
   ]
  },
  {
   "cell_type": "code",
   "execution_count": 142,
   "metadata": {},
   "outputs": [
    {
     "data": {
      "text/plain": [
       "(60563, 4)"
      ]
     },
     "execution_count": 142,
     "metadata": {},
     "output_type": "execute_result"
    }
   ],
   "source": [
    "# Write your code here \n",
    "sample_users = pd.read_csv(\"data/sample_users.csv\")\n",
    "sample_users.shape"
   ]
  },
  {
   "cell_type": "markdown",
   "metadata": {},
   "source": [
    "### Generative Model for our Simulations\n",
    "\n",
    "Below is a description of the generative model we will use. Our model will simulate yearly sales in 4 steps:\n",
    "\n",
    "  1. Simulate a likely number of enrollee based on $\\mu=13$ and $\\sigma =1.4$ increase from last year\n",
    "  \n",
    "  2. For each enrollee simulate whether the enrollee is going to:\n",
    "  \n",
    "    2.1 Quit the training:\n",
    "      Generate a likely value representing the number of months or enrollment before quitting\n",
    "      \n",
    "    2.2 Complete the training:\n",
    "      Generate a likely value representing the number of months or enrollment before completing the training\n",
    "\n",
    "  3. Compute the revenue from memberships based on the total number of months of enrollment simulated for each member\n",
    "\n",
    "This strategy is shown in the figure below\n",
    "\n"
   ]
  },
  {
   "cell_type": "markdown",
   "metadata": {},
   "source": [
    "<img src=\"images/generative_model_diagram.png\" alt=\"drawing\" style=\"width:700px;\"/>"
   ]
  },
  {
   "cell_type": "markdown",
   "metadata": {},
   "source": [
    "### Estimating the 95% Confidence Interval of the Simulation\n",
    "\n",
    "* We are not interested in a single value but the range of values in which the revenue lies 95% of the time.\n",
    " \n",
    "* Therefore, we need to repeat the experiment above a large number of times to derive the 95% confidence interval\n",
    "  * We will repeat the experiment 5000 times \n"
   ]
  },
  {
   "cell_type": "markdown",
   "metadata": {},
   "source": [
    "\n",
    "###  1. Generating the Number of Enrollees\n",
    "\n",
    " * The vendor expects  the number of enrollees for next year to be similar in scope to yearly increases observed in the past \n",
    "    * The increase should have a mean has a mean $\\mu=13$% and a standard deviation of $\\sigma =1.4$% \n",
    " * Last year number of enrollees was 90,316, \n",
    "\n",
    "* Use  the Gaussian (normal) distribution to sample a likely number of clients for next year\n",
    "  * This number will represent the number of clients in a single iteration of the generative model\n",
    "\n",
    "* Save the value in a variable called `nb_enrollees`\n",
    " \n",
    "  * Recall that you will need to convert the resulting value to an `int`.\n",
    "  \n",
    "\n"
   ]
  },
  {
   "cell_type": "code",
   "execution_count": 52,
   "metadata": {},
   "outputs": [
    {
     "data": {
      "text/plain": [
       "100850"
      ]
     },
     "execution_count": 52,
     "metadata": {},
     "output_type": "execute_result"
    }
   ],
   "source": [
    "# Write your code here \n",
    "next_year_mean = 1.13 * 90316 # mean is 113% of last years value\n",
    "next_year_dev = next_year_mean * .014 # deviation is 1.4% of next years mean\n",
    "nb_enrollees = int(np.random.normal(next_year_mean,next_year_dev,1)[0]) \n",
    "nb_enrollees\n"
   ]
  },
  {
   "cell_type": "markdown",
   "metadata": {},
   "source": [
    "### Compute the Proportion of People who Quit Training in the Population of Enrollees\n",
    "\n",
    "* Use the data in to build a 98% confidence interval of the proportion of people who quit the training before completing.\n",
    "  * You can generate a single instance of the rate of people who quit by dividing by the number of  people who quit (`status == \"Q\"` in the data) by the total number of people\n",
    "\n",
    "* Will build a 98% confidence interval by computing the proportion in 5,000 bootstrap iterations of the data\n",
    "   \n",
    "\n",
    "* Assing the the the confidence interval tuple to a variable called `quit_prop_conf_int`\n",
    "  * You can use `np.percentile` to compute the interval\n",
    "  "
   ]
  },
  {
   "cell_type": "code",
   "execution_count": 53,
   "metadata": {},
   "outputs": [
    {
     "data": {
      "text/plain": [
       "array([0.325, 0.397])"
      ]
     },
     "execution_count": 53,
     "metadata": {},
     "output_type": "execute_result"
    }
   ],
   "source": [
    "# Write your code here \n",
    "#quit_rate = (sample_users['status'] == 'Q').sum() / sample_users.shape[0]\n",
    "\n",
    "quit_prop_conf_int = []\n",
    "#use quit_rate to \n",
    "for _ in range(5000):\n",
    "    data_sample_1000_bootstrap = sample_users.sample(1000)\n",
    "    quit_rate = (data_sample_1000_bootstrap['status'] == 'Q').sum()/ data_sample_1000_bootstrap.shape[0]\n",
    "    quit_prop_conf_int.append(quit_rate)\n",
    "#98% confidence interval means we want percentile from 1 to 99\n",
    "np.percentile(quit_prop_conf_int, (1, 99))"
   ]
  },
  {
   "cell_type": "markdown",
   "metadata": {},
   "source": [
    "\n",
    "### 2. Generating a Radom Quitting Probability\n",
    "\n",
    "The 98% confidence interval tells us that we are 98% sure that the true parameter is in that interval. Thefore, to inject this uncertainty into our model, we will estimate the number of people who quit in each iteration by randomly picking a value from that confidence interval. \n",
    " \n",
    "  * Use `np.random.uniform(min, max)` to randomly pick a value in the interval.\n",
    "  * ex. if the bounds of your quit_prop_conf_int are (0.2, 0.3), a possible value is \n",
    "  \n",
    "```python  \n",
    "  np.random.uniform(0.2, 0.3)\n",
    "  >>> 0.225\n",
    "  # this is equivalent to \n",
    "  # np.random.uniform(quit_prop_conf_int[0], quit_prop_conf_int[1])\n",
    "```\n",
    "\n",
    "Save the value in a variable called `quit_prop`"
   ]
  },
  {
   "cell_type": "code",
   "execution_count": 55,
   "metadata": {},
   "outputs": [
    {
     "data": {
      "text/plain": [
       "0.3701287005278977"
      ]
     },
     "execution_count": 55,
     "metadata": {},
     "output_type": "execute_result"
    }
   ],
   "source": [
    "# Write your code here\n",
    "quit_prop = np.random.uniform(quit_prop_conf_int[0], quit_prop_conf_int[1])\n",
    "quit_prop"
   ]
  },
  {
   "cell_type": "markdown",
   "metadata": {},
   "source": [
    "### 3. Simulating Numbers for People who  Quit and those who Complete the Training\n",
    "\n",
    "\n",
    "* Use the variable `nb_enrollees` and `quit_prop` to determine the number of people who are going to complete the training and the numer of enrollees who will quit\n",
    "\n",
    "* Save the value in `nb_enrollees_finish` and `nb_enrollees_quit` \n",
    "\n",
    "  * Recall that the resulting values are integers not float.\n",
    "  * Verify that\n",
    "  \n",
    "\n",
    "```\n",
    "nb_enrollees_finish + nb_enrollees_quit == nb_enrollees\n",
    "\n",
    "```\n"
   ]
  },
  {
   "cell_type": "code",
   "execution_count": 60,
   "metadata": {},
   "outputs": [
    {
     "data": {
      "text/plain": [
       "True"
      ]
     },
     "execution_count": 60,
     "metadata": {},
     "output_type": "execute_result"
    }
   ],
   "source": [
    "# Write your code here \n",
    "nb_enrollees_quit = int(nb_enrollees * quit_prop) #make it as an int to represent whole users\n",
    "nb_enrollees_finish = nb_enrollees - nb_enrollees_quit\n",
    "\n",
    "nb_enrollees_finish + nb_enrollees_quit == nb_enrollees"
   ]
  },
  {
   "cell_type": "markdown",
   "metadata": {},
   "source": [
    "### Determining the Number of Payments Enrollees Make Before Quitting\n",
    "\n",
    "* Here we will be modeling the number of months that a person remains enrolled before eventually quitting\n",
    "\n",
    "* Recall that the probability of dropping declines as the students get close to completing the training\n",
    "  * The longer the student has paid, the less likely they are to drop out\n",
    "  * A person is more likely to quit on the first month of enrollment than any other month \n",
    "  *  The probability of unenrolling during month $t$ is always higher than the probability of unenrolling during month $t+1$\n",
    " \n",
    " \n",
    "* The illustrations A, B and C below are all valid representation of the probability distribution, as we described it above.\n",
    "  *  For illustration purposes, the  function is represented in the range [1, 10]\n",
    "\n",
    "<img src=\"images/decay.png\" alt=\"drawing\" style=\"width:1400px;\"/>"
   ]
  },
  {
   "cell_type": "markdown",
   "metadata": {},
   "source": [
    "### Identifying the Most Likely Parameters\n",
    "\n",
    "* This three figure all represent the  exponential probability distributions\n",
    "  https://docs.scipy.org/doc/scipy/reference/generated/scipy.stats.expon.html\n",
    "  \n",
    "  \n",
    "* While we haven't covered this distribution in class, all we need to know is that this distribution has two parameters:\n",
    "  * `loc`, which represents  the value at which the function has its maximum\n",
    "  * `scale`, which represents the \"inverse rate of decay\"\n",
    "    * the large the value, the slower the function is to reach a probability of 0.\n",
    "  \n",
    "* In the example above, all three distributions have a `loc` of 1\n",
    "  * The users are most likely to quit during the first month than at any other time\n",
    "* All three curves have a different scale parameter. The example A, B and C have inverse decays   (`scale`) of `0.2`, `1` and `200` respectively\n",
    "\n",
    "* Examples of how to use the `expon` probability distribution are given below\n"
   ]
  },
  {
   "cell_type": "code",
   "execution_count": 61,
   "metadata": {},
   "outputs": [
    {
     "data": {
      "text/plain": [
       "[<matplotlib.lines.Line2D at 0x2164888cc50>]"
      ]
     },
     "execution_count": 61,
     "metadata": {},
     "output_type": "execute_result"
    },
    {
     "data": {
      "image/png": "[encoded data removed]",
      "text/plain": [
       "<Figure size 1584x288 with 2 Axes>"
      ]
     },
     "metadata": {
      "needs_background": "light"
     },
     "output_type": "display_data"
    }
   ],
   "source": [
    "plt.figure(figsize=(22,4))\n",
    "x = np.linspace(0, 10, 1000)\n",
    "\n",
    "y_dist_1 = stats.expon(1, 1)\n",
    "y_dist_2 = stats.expon(1, 4)\n",
    "\n",
    "\n",
    "plt.subplot(1, 2, 1)\n",
    "plt.plot(x, y_dist_1.pdf(x), label=\"$a=0.2$\")\n",
    "\n",
    "\n",
    "plt.subplot(1, 2, 2)\n",
    "plt.plot(x, y_dist_2.pdf(x), label=\"$a=1$\")\n",
    "\n"
   ]
  },
  {
   "cell_type": "code",
   "execution_count": 62,
   "metadata": {},
   "outputs": [
    {
     "data": {
      "text/plain": [
       "array([3.32052248, 6.21098507, 2.58779286, 2.95481022, 1.54009928,\n",
       "       1.92606973, 1.63589635])"
      ]
     },
     "execution_count": 62,
     "metadata": {},
     "output_type": "execute_result"
    }
   ],
   "source": [
    "# Sampling 7 values from stats.expon with `loc=1` and `scale=2`\n",
    "\n",
    "stats.expon(1, 2).rvs(7)"
   ]
  },
  {
   "cell_type": "markdown",
   "metadata": {},
   "source": [
    "### Identifying the rate using Maximum Likelihood (ML)\n",
    "\n",
    "* Which param of the exponential maximizes the log-likelihood of our data?\n",
    "  * We will set loc=1given that the users are most likely to unenroll during the first month.\n",
    "  * Which value of `scale` has the maximizes the log-likelihood value of the data we have?\n",
    "  \n",
    "  \n",
    "* Before we answe this question, compute the log-likelihood of this dataset using a `scale` value of 5\n",
    " * Recall that the oversed data here is the number of months a person remains enrolled before eventually quitting\n",
    "   * Make sure that your data is the `mem_duration` for individuals with `status==\"Q\"`\n",
    "\n",
    "* Also, to compute the log-likelihood of the data [2,1,2,3,4] and `location=1` and `scale=5`, we write:\n",
    "\n",
    "\n",
    "```python\n",
    "    log_pdfs = stats.expon(1, 4).logpdf([2,1,2,3,4])\n",
    "    sum(log_pdfs)\n",
    "    # or simply \n",
    "    # sum(stats.expon(1, 4).logpdf([2,1,2,3,4]))\n",
    "```\n",
    "\n",
    "* Note that above we chain operations by first building the distribution using `stats.expon(1, 4)` and, which we subsequently use to call the method `logpdf([2,1,2,3,4])`"
   ]
  },
  {
   "cell_type": "code",
   "execution_count": 123,
   "metadata": {},
   "outputs": [
    {
     "data": {
      "text/plain": [
       "-60839.461738190046"
      ]
     },
     "execution_count": 123,
     "metadata": {},
     "output_type": "execute_result"
    }
   ],
   "source": [
    "# Write your code here \n",
    "mem_duration_quitters = sample_users.loc[sample_users['status'] == 'Q']['mem_duration'].reset_index(drop=True)\n",
    "\n",
    "log_pdfs = stats.expon(1, 4).logpdf(mem_duration_quitters)\n",
    "sum(log_pdfs)"
   ]
  },
  {
   "cell_type": "markdown",
   "metadata": {},
   "source": [
    "# Computing the Inverse Decay Using the Maximum Likelihood\n",
    "\n",
    "* Compute and plot the log-likelihood of the parameters given the data\n",
    "\n",
    "  * To answer the questions, we will compute the log ML for each possible `scale` value between 1 and 50\n",
    "\n",
    "* Yout graph should look like the \n",
    "\n",
    "\n",
    "\n",
    "* The X-axis represents possible distribution params\n",
    "* The Y-axis represents the log-likelihood of your data\n",
    "\n",
    "* Notes:\n",
    "  * I clearly marked the graph to indicate where likelihood is maximal\n",
    "  * The x-axis ticks are intentionally missing. Make sure yours are not.\n",
    "\n",
    "<img src=\"images/ML.png\" alt=\"drawing\" style=\"width:1400px;\"/>"
   ]
  },
  {
   "cell_type": "code",
   "execution_count": 136,
   "metadata": {},
   "outputs": [
    {
     "data": {
      "image/png": "[encoded data removed]",
      "text/plain": [
       "<Figure size 432x288 with 1 Axes>"
      ]
     },
     "metadata": {
      "needs_background": "light"
     },
     "output_type": "display_data"
    }
   ],
   "source": [
    "# Write your code here \n",
    "max_likelihood_data = []\n",
    "for i in range(50):\n",
    "    max_likelihood = stats.expon(1, i).logpdf(mem_duration_quitters)\n",
    "    max_likelihood_data.append(sum(max_likelihood))\n",
    "# plot all data from max_likelihoodata\n",
    "plt.plot(max_likelihood_data)\n",
    "# plot the max value form max_likelihood_data as a dot\n",
    "\n",
    "plt.plot(np.nanargmax(max_likelihood_data),np.nanmax(max_likelihood_data),'ro')\n",
    "plt.show()"
   ]
  },
  {
   "cell_type": "markdown",
   "metadata": {
    "collapsed": true
   },
   "source": [
    "### 4. Simulating Users Unenrolling from the Training\n",
    "\n",
    "* Using the exponential distribution and the parameter we determined using the maximum likelihood, simulate the number of months the users who quit, is likely to have stayed before leaving the platform\n",
    "\n",
    "* To simulate the number of months a user may have remained unrolled before quitting, we simply sample from the exponential using the `scale` param identified above. Ex. if your scale is 4, you can use: \n",
    "\n",
    "```python \n",
    "    scale =4\n",
    "    nb_users = 1\n",
    "    stats.expon(1, scale).rvs(nb_users)\n",
    "    array([ 2.68001742])\n",
    "    \n",
    "```\n",
    "\n",
    "* The value above tell us for the user we simulated stayed on 2.6 months before quitting. \n",
    "  *  Simply change the value of nb_users to simulate multiple users\n",
    "\n",
    "* Since users pay monthly, you can round up the values to the closest integer\n",
    "  * Compute the ceiling using `np.ceil`\n",
    "\n",
    "* Simulate the number of months enrolled for all users in `nb_enrollees_quit`  \n",
    " * Save the value to a variable called `months_payed_before_quitting`\n",
    "  "
   ]
  },
  {
   "cell_type": "code",
   "execution_count": 139,
   "metadata": {},
   "outputs": [
    {
     "data": {
      "text/plain": [
       "array([ 2.,  4.,  2., ..., 12.,  6., 12.])"
      ]
     },
     "execution_count": 139,
     "metadata": {},
     "output_type": "execute_result"
    }
   ],
   "source": [
    "# Write your code here \n",
    "# use the index of the maximum value as our scale\n",
    "months_payed_before_quitting = []\n",
    "scale = np.nanargmax(max_likelihood_data)\n",
    "nb_users = 1\n",
    "months_payed_before_quitting = np.ceil(stats.expon(1, scale).rvs(nb_enrollees_quit))\n",
    "months_payed_before_quitting"
   ]
  },
  {
   "cell_type": "markdown",
   "metadata": {},
   "source": [
    "### Modeling the Membership Duration for Enrollees who Complete the Training\n",
    "\n",
    "* We will use a similar approach to derive the duration of enrollment for users who completed the training\n",
    "\n",
    "  *  Here we are not concerned by the gender difference as instructed by the vendor\n",
    "    \n",
    "* Plot a KDE of the duration of enrollment for enrollees who completed the training. \n",
    "  * Your graph should look like the following\n",
    " \n",
    "\n",
    "<img src=\"images/kde.png\" alt=\"drawing\" style=\"width:600px;\"/>"
   ]
  },
  {
   "cell_type": "code",
   "execution_count": 172,
   "metadata": {},
   "outputs": [
    {
     "data": {
      "image/png": "[encoded data removed]",
      "text/plain": [
       "<Figure size 432x288 with 1 Axes>"
      ]
     },
     "metadata": {
      "needs_background": "light"
     },
     "output_type": "display_data"
    }
   ],
   "source": [
    "# Write your code here \n",
    "x_values = np.arange(0, 25, 1)\n",
    "users_complete_duration = sample_users.loc[sample_users['status'] == 'C']['mem_duration'].reset_index(drop=True)\n",
    "\n",
    "kde = sp.stats.gaussian_kde(users_complete_duration, bw_method=0.8)\n",
    "densities = kde.evaluate(x_values)\n",
    "plt.plot(x_values, densities)\n",
    "plt.show()"
   ]
  },
  {
   "cell_type": "markdown",
   "metadata": {},
   "source": [
    "### Visually identifying mean training completion time\n",
    "\n",
    "* Based on the KDE above, how long does it take, on average, to complte the training?\n",
    "\n"
   ]
  },
  {
   "cell_type": "markdown",
   "metadata": {
    "collapsed": true
   },
   "source": [
    "### Write your answer here\n",
    "it looks as though <strong>9</strong> months is average to complete training\n"
   ]
  },
  {
   "cell_type": "markdown",
   "metadata": {},
   "source": [
    "### Modeling the Membership Duration for Enrollees who Complete the Training - Cont'd \n",
    "\n",
    "* The distribution is skewed \n",
    "\n",
    "  * After looking at Encyclopedia of probability distributions, you realize your KDE looks similar to a gamma distribution \n",
    "  \n",
    "   https://docs.scipy.org/doc/scipy/reference/generated/scipy.stats.gamma.html\n",
    "\n",
    "* The distribution takes a single parameter $a$\n",
    "\n",
    "  * $a$ is called the shape parameter\n",
    "\n",
    "  * See the documentatation of  `stats.gamma` in the `scipy` package\n",
    "\n",
    "* Below are a couple of examples of usage of stats.gamma\n",
    "  * The first uses a shape parameter $a=2$ and the second uses a shape parameter $a=8$\n",
    "  \n",
    "<img src=\"images/two_gammas.png\" alt=\"drawing\" style=\"width:1000px;\"/>\n"
   ]
  },
  {
   "cell_type": "markdown",
   "metadata": {
    "collapsed": true
   },
   "source": [
    "### Computing the Maximum Likelihood Value of the Parameter $a$\n",
    "\n",
    "* Use the Maximum Likelihood to identify the value of the parameter $a$ that maximizes the log-likelihood \n",
    "    \n",
    "  * Compute and plot the log-likelihood for the values between 1 and 25\n",
    "  \n",
    "    * The X-axis represents possible distribution params\n",
    "    * The Y-axis represents the log-likelihood of your data\n",
    "  * Recall that tour data consists of the `mem_duration` for users where `status == \"C\"`\n",
    "  \n",
    "* Notes:\n",
    "  * I clearly marked the graph to indicate where likelihood is maximal\n",
    "  * The x-axis ticks are intentionally missing. Make sure yours are not.\n",
    "  * You can  use the `logpdf` directly on the `gamma(x)` object \n",
    "  \n",
    "<img src=\"images/ML_gamma.png\" alt=\"drawing\" style=\"width:800px;\"/>\n",
    "\n"
   ]
  },
  {
   "cell_type": "code",
   "execution_count": 176,
   "metadata": {},
   "outputs": [
    {
     "data": {
      "image/png": "[encoded data removed]",
      "text/plain": [
       "<Figure size 432x288 with 1 Axes>"
      ]
     },
     "metadata": {
      "needs_background": "light"
     },
     "output_type": "display_data"
    },
    {
     "data": {
      "text/plain": [
       "\"\\nmax_likelihood_data = []\\nfor i in range(50):\\n    max_likelihood = stats.expon(1, i).logpdf(mem_duration_quitters)\\n    max_likelihood_data.append(sum(max_likelihood))\\n# plot all data from max_likelihoodata\\nplt.plot(max_likelihood_data)\\n# plot the max value form max_likelihood_data as a dot\\nplt.plot(np.nanargmax(max_likelihood_data),np.nanmax(max_likelihood_data),'ro')\\nplt.show()\\n\""
      ]
     },
     "execution_count": 176,
     "metadata": {},
     "output_type": "execute_result"
    }
   ],
   "source": [
    "# Write your code here\n",
    "max_likelihood_alpha = []\n",
    "for i in range(25):\n",
    "    max_alpha = stats.gamma(i).logpdf(users_complete_duration)\n",
    "    max_likelihood_alpha.append(sum(max_alpha))\n",
    "plt.plot(max_likelihood_alpha)\n",
    "plt.plot(np.nanargmax(max_likelihood_alpha),np.nanmax(max_likelihood_alpha),'ro')\n",
    "plt.show()"
   ]
  },
  {
   "cell_type": "markdown",
   "metadata": {},
   "source": [
    "### Computing the Maximum Likelihood Value of the Parameter $a$ - Cont'd\n",
    "\n",
    "\n",
    "* What is the value that maximizes the likelihood?\n",
    " * Save the value in `months_payed_before_completion`\n",
    " \n",
    "* Does this value agree with your findings from visually inspecting the KDE graph above?\n"
   ]
  },
  {
   "cell_type": "code",
   "execution_count": null,
   "metadata": {
    "collapsed": true
   },
   "outputs": [],
   "source": [
    "# Write you code here \n"
   ]
  },
  {
   "cell_type": "code",
   "execution_count": null,
   "metadata": {
    "collapsed": true
   },
   "outputs": [],
   "source": [
    "### Write you answer here \n",
    "\n"
   ]
  },
  {
   "cell_type": "markdown",
   "metadata": {},
   "source": [
    "### 5. Simulating Users Completing the Training\n",
    "\n",
    "\n",
    "* Using the gamma distribution and the parameter $a$ determined above, simulate the number of months it has taking users to finish the training\n",
    "\n",
    "* To simulate the number of months a user may have remained unrolled before completing the training we simply sample from the gamma using the param $a$ identified above.\n",
    "\n",
    "* Ex. if your $a$ = 5, you can use: \n",
    "\n",
    "```python \n",
    "    scale =4\n",
    "    nb_users = 1\n",
    "    stats.gamma(1, months_payed_before_completion).rvs(nb_users)\n",
    "    array([ 5.112342])\n",
    "    \n",
    "```\n",
    "\n",
    "* The value above tells us for the user we simulated stayed on 5.1 months before quitting \n",
    "  *  Simply change the value of nb_users to simulate multiple users\n",
    "\n",
    "* Since users pay monthly, you can round up the values to the closest integer\n",
    "  * Compute the ceiling using `np.ceil`\n",
    "\n",
    "* Simulate the number of months enrolled for all users in `nb_enrollees_finish`  \n",
    " * Save the value to a variable called `months_payed_before_finishing`\n",
    "  "
   ]
  },
  {
   "cell_type": "code",
   "execution_count": null,
   "metadata": {
    "collapsed": true
   },
   "outputs": [],
   "source": [
    "# Write your code here \n"
   ]
  },
  {
   "cell_type": "markdown",
   "metadata": {},
   "source": [
    "### 6. Simulating Revenue for a Single Iteration\n",
    "* Compute the total revenue for this iteration as the total months paid by users who completed the training and those who quit, times the monthly fee\n",
    "  * The total months paid by users who completed the training is saved in `months_payed_before_finishing`\n",
    "  * The total months paid by users who completed the training is saved in `months_payed_before_quitting`\n",
    "  * The monthly fee is 39.99\n"
   ]
  },
  {
   "cell_type": "code",
   "execution_count": null,
   "metadata": {
    "collapsed": true
   },
   "outputs": [],
   "source": [
    "# Write you code here\n"
   ]
  },
  {
   "cell_type": "markdown",
   "metadata": {},
   "source": [
    "### Build a 95% Confidence Interval for the Revenue\n",
    "\n",
    "* Repeat the simulation above 5000 times to build a confidence interval. The steps you'll need to repeat are those described in text cells with the following headers:\n",
    "    \n",
    "  1. Generating the Number of Enrollees\n",
    "  2. Generating a Radom Quitting Probability\n",
    "  3. Simulating Numbers for People who  Quit and those who Complete the Training\n",
    "  4. Simulating Users Unenrolling from the Training\n",
    "  5. Simulating Users Completing the Training\n",
    "  6. Simulating Revenue for a Single Iteration\n",
    "\n",
    "\n",
    "    \n",
    "* The computation may take a few minutes to complete"
   ]
  },
  {
   "cell_type": "code",
   "execution_count": null,
   "metadata": {
    "collapsed": true
   },
   "outputs": [],
   "source": [
    "# Write you code here"
   ]
  },
  {
   "cell_type": "markdown",
   "metadata": {},
   "source": [
    "### Taking into account gender differences \n",
    "\n",
    "* Repeat the analysis above while taking into consideration the differences between males and females. \n",
    "  \n",
    "* Let's assume that the `quit_prop` is the same across gender\n",
    "\n",
    "* You'll need two additional parameters\n",
    "\n",
    "  * the proportion of males/females in the population of enrollees who quit the training, call it `male_female_prop_quit`\n",
    "     * This is the param that you'll use to decide whether the person who unenrolls is a Male or Female\n",
    "\n",
    "  * The proportion of males to females in the population of enrollees who complete the training, call it `male_female_prop_finish`\n",
    "    * This is the param that you'll use to decide whether the person who unenrolls is a Male or Female\n",
    "\n",
    "* Rather than having a single parameter `scale` for the inverse decay of the exponential distribution, you will now have two parameters, one for males and a second for females\n",
    "* Rather than having a single shape parameter $a$ for gamma distribution, you will now have two parameters, one for males and a second for females\n",
    "\n",
    "* Provide your code below\n",
    "\n"
   ]
  },
  {
   "cell_type": "code",
   "execution_count": null,
   "metadata": {
    "collapsed": true
   },
   "outputs": [],
   "source": [
    "# Write you code here \n",
    "\n",
    "\n"
   ]
  },
  {
   "cell_type": "markdown",
   "metadata": {
    "collapsed": true
   },
   "source": [
    "### Conclusion\n",
    "\n",
    "\n",
    "* Which do you think is the most accurate model, the one that takes into account the gender differences of the one that does not? Justify your answer.\n",
    "\n",
    "\n"
   ]
  },
  {
   "cell_type": "markdown",
   "metadata": {},
   "source": [
    "# PROBLEM 2\n",
    "----"
   ]
  },
  {
   "cell_type": "markdown",
   "metadata": {},
   "source": [
    "###  Average Medicare Payment and Hypothesis Testing \n",
    "\n",
    "\n",
    "We have access to Average Medicare Payment for 163,065 hospitals nationally. The average medicare payment are classified according to `DRG Definitions`; those are diagnostic categories that describe classes of services the hospital rendered. For instance, the average Medicare Payment at  THE QUEENS MEDICAL CENTER for the diagnostic category  \"917 - POISONING & TOXIC EFFECTS OF DRUGS W MCC\" was $15,305.21.\n",
    "\n",
    "\n",
    "We are interested in comparing the avg. payments across states to assess whether they are similar or not, regardless of diagnostic category. Naturally, by different, we are interested in seeing whether the difference is statistically significant.\n",
    "\n"
   ]
  },
  {
   "cell_type": "markdown",
   "metadata": {
    "slideshow": {
     "slide_type": "slide"
    }
   },
   "source": [
    "\n",
    "### Loading  the data\n",
    "\n",
    "* Load the data into a variable called `payment_data`\n",
    "  * Select only the columns ['DRG Definition', \"Provider Name\", 'Provider State', 'Average Medicare Payments']\n",
    "  * Rename these columns as ['diagnostic', 'name', 'state', 'avg_medicare_payment']\n",
    "\n"
   ]
  },
  {
   "cell_type": "code",
   "execution_count": null,
   "metadata": {
    "collapsed": true,
    "slideshow": {
     "slide_type": "slide"
    }
   },
   "outputs": [],
   "source": [
    "# Write you code here\n",
    "\n"
   ]
  },
  {
   "cell_type": "markdown",
   "metadata": {},
   "source": [
    "### Average Medicare Payment Value\n",
    "\n",
    "* Compute the mean average medicare payment value for Idaho (ID) and Hawaii (HI). \n",
    "\n",
    "* Based on the observed means, do you think that the difference in mean average medicare payment between both states is statistically significant?\n",
    "\n",
    "  * Justify your answer"
   ]
  },
  {
   "cell_type": "code",
   "execution_count": null,
   "metadata": {
    "collapsed": true,
    "slideshow": {
     "slide_type": "slide"
    }
   },
   "outputs": [],
   "source": [
    "# Write you code here\n",
    "\n"
   ]
  },
  {
   "cell_type": "markdown",
   "metadata": {},
   "source": [
    "# FYI: Which are the Costliest Categories\n",
    "\n",
    "* Post-surgery infections are the categories with the highest Medicare payments cost,\n",
    "  * The most expensive category is `853 - INFECTIOUS & PARASITIC DISEASES W O.R. P....` \n",
    "    * there were 15 discharges in NY's  WESTCHESTER MEDICAL CENTER, with an average medicare payment of $133,177 \n",
    "    \n",
    "    * there were 86 discharges in LA's CEDARS-SINAI MEDICAL CENTER with an average medicare payment of $87437.8\n",
    "  \n",
    "* The overall cost of surgical site infection alone in the US is an estimated $3.5 to $10 billion annually.\n",
    "\n"
   ]
  },
  {
   "cell_type": "code",
   "execution_count": null,
   "metadata": {
    "collapsed": true
   },
   "outputs": [],
   "source": [
    "data[data[\"DRG Definition\"].str.contains(\"INFECTIOUS\")].sort_values(\"Average Medicare Payments\", ascending=False).head()"
   ]
  },
  {
   "cell_type": "markdown",
   "metadata": {},
   "source": [
    "### Skewed Data\n",
    "\n",
    "* The payments data in Idaho and Hawaii are highly skewed; i.e., most payments are less than $20k, with a few rare payments above. \n",
    "  \n",
    "  * Most payments are below $15k$, with some up to $60k$ in both states\n",
    "\n",
    "* See graphs below\n",
    "\n"
   ]
  },
  {
   "cell_type": "code",
   "execution_count": null,
   "metadata": {
    "collapsed": true
   },
   "outputs": [],
   "source": [
    "plt.figure(figsize=(22,4))\n",
    "plt.subplot(1, 2, 1)\n",
    "_ = plt.hist(payment_data[payment_data[\"state\"] == \"ID\"][\"avg_medicare_payment\"])\n",
    "plt.title(\"avg_medicare_payment in ID\")\n",
    "plt.subplot(1, 2, 2)\n",
    "_ = plt.hist(payment_data[payment_data[\"state\"] == \"HI\"][\"avg_medicare_payment\"])\n",
    "plt.title(\"avg_medicare_payment in Hawaii\")"
   ]
  },
  {
   "cell_type": "markdown",
   "metadata": {},
   "source": [
    "### Log-transforming the data\n",
    "\n",
    "\n",
    "* As discussed in class, data which follow bell-shaped distributions tend to be easier to work with in hypothesis testing\n",
    "\n",
    "* Compute the log (base 10) of the `avg_medicare_payment` and the results in a new column called `log_avg_medicare_payment`\n",
    "\n",
    "\n",
    "\n",
    "  \n"
   ]
  },
  {
   "cell_type": "code",
   "execution_count": 1,
   "metadata": {
    "collapsed": true
   },
   "outputs": [],
   "source": [
    "# Write you code here\n",
    "\n"
   ]
  },
  {
   "cell_type": "markdown",
   "metadata": {},
   "source": [
    "# Plotting the Hawaii KDE\n",
    "\n",
    "* Plot the `log_avg_medicare_payment` KDE for Hawaii \n",
    " * You can use the `gaussian_kde` function from `scipy`'s `stats` module\n",
    "    \n",
    "* Your curve should look like the one below\n",
    "\n",
    "* Notice that: \n",
    "  * The KDE is smooth (as opposed to having jagged peaks)\n",
    "   * The range (x-axis) appropriately to minimize the range of values with a null probability\n",
    "\n",
    "\n",
    "* In the example below, x- and y-axis labels are missing. Your final graph should be labeled appropriately and should have a title\n",
    "\n",
    "<img src=\"images/kde_hawaii.png\" alt=\"drawing\" style=\"width:700px;\"/>"
   ]
  },
  {
   "cell_type": "code",
   "execution_count": null,
   "metadata": {
    "collapsed": true
   },
   "outputs": [],
   "source": [
    "# Write your code here\n",
    "\n"
   ]
  },
  {
   "cell_type": "markdown",
   "metadata": {},
   "source": [
    "### Interpreting the Hawaii Emprical Distribution\n",
    "\n",
    "* According to the KDE plot above, what is the mean `avg_medicare_payment`? \n",
    "  * Plot the mean `avg_medicare_payment` and its density on your graph \n",
    "\n",
    "\n",
    "* Your graph should look the one below     \n",
    "  * Note that lines in the example below are intentionally drawn at a value that may be different from the true mean  \n",
    "  * Make sure the vertical and horizontal lines in your graph match the mean and its density respectively\n",
    "  \n",
    "\n",
    "* Use the funtion `plt.hline` and `plt.vline` to plot the lines\n",
    "\n",
    "\n",
    "<img src=\"images/interpreting_kde.png\" alt=\"drawing\" style=\"width:800px;\"/>"
   ]
  },
  {
   "cell_type": "code",
   "execution_count": null,
   "metadata": {
    "collapsed": true
   },
   "outputs": [],
   "source": [
    "# Write your code here \n",
    "\n"
   ]
  },
  {
   "cell_type": "markdown",
   "metadata": {
    "collapsed": true
   },
   "source": [
    "### Interpreting the Hawaii Emprical Distribution\n",
    "\n",
    "* According to the `KDE` plot above, what is the probability of observing an average payment greater than $25,000\n",
    "\n",
    "  * Recall that `KDE` object work in a similar way to a theoretical probability distribution in `scipy`\n",
    "  \n",
    "    * Note that what you are asked to compute here is not the density but the probability avg-payments > $25k\n",
    "    \n",
    "    * Since the total probability under the curve sums to 1, then the `avg_medicare_payment`  > $25k should be less than 1.\n",
    "    \n",
    "   * Also, recall that your values are log-transformed\n",
    "\n",
    "* Use `matplotlib`'s `fill_between` to paint the area under the curve representing that area.\n",
    " \n",
    "\n",
    " \n",
    " "
   ]
  },
  {
   "cell_type": "code",
   "execution_count": null,
   "metadata": {
    "collapsed": true
   },
   "outputs": [],
   "source": [
    "# Write your code here\n",
    "\n"
   ]
  },
  {
   "cell_type": "markdown",
   "metadata": {},
   "source": [
    "\n",
    "### Plotting Both KDEs   \n",
    "\n",
    "* Plot the Hawaii and Idaho `log_avg_medicare_payment` distributions on the same plot\n",
    "\n",
    "* What does the x-axis and y-axis represent, label them approrpriately in your plot\n",
    "\n",
    "  * Don't forget a title\n",
    "\n",
    "* According to you plot, do you believe the the avg. payment across both states is different? Justify your answer.\n",
    "\n",
    "* Your plot should look like the following\n",
    "\n",
    "<img src=\"images/both_kdes.png\" alt=\"drawing\" style=\"width:700px;\"/>\n",
    "\n"
   ]
  },
  {
   "cell_type": "code",
   "execution_count": null,
   "metadata": {
    "collapsed": true
   },
   "outputs": [],
   "source": [
    "# Write your code here\n",
    "\n",
    "\n"
   ]
  },
  {
   "cell_type": "markdown",
   "metadata": {},
   "source": [
    "### Hypothesis Testing\n",
    "\n",
    "* How similar `log_avg_medicare_payment` charges in Hawaii and Idaho?\n",
    "\n",
    "* Null Hypothesis ($H_0$)\n",
    "  * The mean values across both state are the same and any differenc is due to solely sampling\n",
    "\n",
    "* Alternative Hypothesis ($H_A$)\n",
    "  * The mean values across both state are different\n",
    "    * The observed difference is not due to chance\n",
    "    \n"
   ]
  },
  {
   "cell_type": "markdown",
   "metadata": {},
   "source": [
    "\n",
    "### Exracting the Data\n",
    "\n",
    "* First, we will extact `log_avg_medicare_payment` values from both states into a single numpy array called 'log_avg_medicare_payment_hi_id'\n",
    "\n",
    "  * Your array contains 993 entries and that it's an np.array, which will make it easier to work with the data.\n"
   ]
  },
  {
   "cell_type": "code",
   "execution_count": null,
   "metadata": {
    "collapsed": true
   },
   "outputs": [],
   "source": [
    "# Write your code here\n",
    "\n"
   ]
  },
  {
   "cell_type": "markdown",
   "metadata": {},
   "source": [
    "### Computing the Observed Test Statistic\n",
    "\n",
    "* Since we are interested in the difference between both averages, i.e., avg_medicare_payment in Hawaii and Idaho, a good test statistic is, therefore, the difference between the  sample means in both states \n",
    "  * In essence, the test statistic is the difference between   `log_avg_medicare_payment` between hawaii and Ihado.\n",
    "\n",
    "* Compute the observed test statistic and save it to a variable called `observed_test_stat`"
   ]
  },
  {
   "cell_type": "code",
   "execution_count": null,
   "metadata": {
    "collapsed": true
   },
   "outputs": [],
   "source": [
    "# Write your code here \n",
    "\n"
   ]
  },
  {
   "cell_type": "markdown",
   "metadata": {},
   "source": [
    "### Generating Data Under the Null Hypothesis: Single Iteration\n",
    "\n",
    "* Under the null hypothesis, we assume that Hawaii and Idaho data come from the same distribution, and therefore, have the same parameters\n",
    "\n",
    "* We can use permutations to simulate another set of samples of Hawaii and Idaho.\n",
    "\n",
    "To generate data for a single iteration we will:\n",
    "\n",
    "  1. Shuffle the values in `log_avg_medicare_payment_hi_id`\n",
    "  2. Select two new samples to represent Hawaii and Idaho. The samples must have the same sizes as in the original data.\n",
    "  3. Compute the difference between the mean `log_avg_medicare_payment` across both states.\n",
    "  4. Store the value in a variable called `perm_diff`\n"
   ]
  },
  {
   "cell_type": "code",
   "execution_count": null,
   "metadata": {
    "collapsed": true
   },
   "outputs": [],
   "source": [
    "# Write Your Code Here\n",
    "\n"
   ]
  },
  {
   "cell_type": "markdown",
   "metadata": {},
   "source": [
    "* Repeat the function above 5000 times and plot the resulting distribution of the means.\n",
    "\n",
    "  * Save the simulated test statistic in an array called `perm_diffs`\n",
    "\n",
    "* use `plt.scatter` to plot the values of the observed statistic on your distribution.\n",
    "* The result should look \"somewhat\" like the graph below\n",
    "\n",
    "\n",
    "<img src=\"images/diff_hi_id.png\" alt=\"drawing\" style=\"width:700px;\"/>\n"
   ]
  },
  {
   "cell_type": "code",
   "execution_count": null,
   "metadata": {
    "collapsed": true
   },
   "outputs": [],
   "source": [
    "# Write you code here\n",
    "\n",
    "\n"
   ]
  },
  {
   "cell_type": "markdown",
   "metadata": {
    "collapsed": true
   },
   "source": [
    "### Computing the p-value for the test\n",
    "\n",
    "* Compute the p-value associated with your results and state whether the observed results are significant\n",
    "  * Select a threshold you deem reasonable"
   ]
  },
  {
   "cell_type": "markdown",
   "metadata": {
    "collapsed": true
   },
   "source": [
    "### Hypothesis testing with values from DC\n",
    "\n",
    "* Repeat the hypothesis test above by testing Hawaii and DC. Use the first cells below, to run your code and plot the empirical bootstrap distribution and the second to answer whether the data are statistically significantly similar or now. Include the `p-value` to support your conclusion"
   ]
  },
  {
   "cell_type": "code",
   "execution_count": null,
   "metadata": {
    "collapsed": true
   },
   "outputs": [],
   "source": [
    "# Write you code here"
   ]
  },
  {
   "cell_type": "code",
   "execution_count": null,
   "metadata": {
    "collapsed": true
   },
   "outputs": [],
   "source": [
    "# Write your answer here"
   ]
  }
 ],
 "metadata": {
  "celltoolbar": "Slideshow",
  "colab": {
   "collapsed_sections": [],
   "name": "PP_1_Introduction.ipynb",
   "provenance": [],
   "version": "0.3.2"
  },
  "hide_input": false,
  "kernelspec": {
   "display_name": "Python 3",
   "language": "python",
   "name": "python3"
  },
  "language_info": {
   "codemirror_mode": {
    "name": "ipython",
    "version": 3
   },
   "file_extension": ".py",
   "mimetype": "text/x-python",
   "name": "python",
   "nbconvert_exporter": "python",
   "pygments_lexer": "ipython3",
   "version": "3.7.1"
  }
 },
 "nbformat": 4,
 "nbformat_minor": 1
}
